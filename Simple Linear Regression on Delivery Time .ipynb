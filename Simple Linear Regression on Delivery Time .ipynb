{
 "cells": [
  {
   "cell_type": "code",
   "execution_count": 1,
   "id": "d4d47144",
   "metadata": {
    "ExecuteTime": {
     "end_time": "2022-07-25T22:01:48.602736Z",
     "start_time": "2022-07-25T22:01:42.905727Z"
    }
   },
   "outputs": [],
   "source": [
    "import pandas as pd \n",
    "import numpy as np\n",
    "import matplotlib.pyplot as plt \n",
    "from sklearn.linear_model import LinearRegression\n",
    "import seaborn as sns "
   ]
  },
  {
   "cell_type": "code",
   "execution_count": 2,
   "id": "78679dc4",
   "metadata": {
    "ExecuteTime": {
     "end_time": "2022-07-25T22:01:48.719990Z",
     "start_time": "2022-07-25T22:01:48.609863Z"
    }
   },
   "outputs": [
    {
     "data": {
      "text/html": [
       "<div>\n",
       "<style scoped>\n",
       "    .dataframe tbody tr th:only-of-type {\n",
       "        vertical-align: middle;\n",
       "    }\n",
       "\n",
       "    .dataframe tbody tr th {\n",
       "        vertical-align: top;\n",
       "    }\n",
       "\n",
       "    .dataframe thead th {\n",
       "        text-align: right;\n",
       "    }\n",
       "</style>\n",
       "<table border=\"1\" class=\"dataframe\">\n",
       "  <thead>\n",
       "    <tr style=\"text-align: right;\">\n",
       "      <th></th>\n",
       "      <th>Delivery Time</th>\n",
       "      <th>Sorting Time</th>\n",
       "    </tr>\n",
       "  </thead>\n",
       "  <tbody>\n",
       "    <tr>\n",
       "      <th>0</th>\n",
       "      <td>21.00</td>\n",
       "      <td>10</td>\n",
       "    </tr>\n",
       "    <tr>\n",
       "      <th>1</th>\n",
       "      <td>13.50</td>\n",
       "      <td>4</td>\n",
       "    </tr>\n",
       "    <tr>\n",
       "      <th>2</th>\n",
       "      <td>19.75</td>\n",
       "      <td>6</td>\n",
       "    </tr>\n",
       "    <tr>\n",
       "      <th>3</th>\n",
       "      <td>24.00</td>\n",
       "      <td>9</td>\n",
       "    </tr>\n",
       "    <tr>\n",
       "      <th>4</th>\n",
       "      <td>29.00</td>\n",
       "      <td>10</td>\n",
       "    </tr>\n",
       "    <tr>\n",
       "      <th>5</th>\n",
       "      <td>15.35</td>\n",
       "      <td>6</td>\n",
       "    </tr>\n",
       "    <tr>\n",
       "      <th>6</th>\n",
       "      <td>19.00</td>\n",
       "      <td>7</td>\n",
       "    </tr>\n",
       "    <tr>\n",
       "      <th>7</th>\n",
       "      <td>9.50</td>\n",
       "      <td>3</td>\n",
       "    </tr>\n",
       "    <tr>\n",
       "      <th>8</th>\n",
       "      <td>17.90</td>\n",
       "      <td>10</td>\n",
       "    </tr>\n",
       "    <tr>\n",
       "      <th>9</th>\n",
       "      <td>18.75</td>\n",
       "      <td>9</td>\n",
       "    </tr>\n",
       "    <tr>\n",
       "      <th>10</th>\n",
       "      <td>19.83</td>\n",
       "      <td>8</td>\n",
       "    </tr>\n",
       "    <tr>\n",
       "      <th>11</th>\n",
       "      <td>10.75</td>\n",
       "      <td>4</td>\n",
       "    </tr>\n",
       "    <tr>\n",
       "      <th>12</th>\n",
       "      <td>16.68</td>\n",
       "      <td>7</td>\n",
       "    </tr>\n",
       "    <tr>\n",
       "      <th>13</th>\n",
       "      <td>11.50</td>\n",
       "      <td>3</td>\n",
       "    </tr>\n",
       "    <tr>\n",
       "      <th>14</th>\n",
       "      <td>12.03</td>\n",
       "      <td>3</td>\n",
       "    </tr>\n",
       "    <tr>\n",
       "      <th>15</th>\n",
       "      <td>14.88</td>\n",
       "      <td>4</td>\n",
       "    </tr>\n",
       "    <tr>\n",
       "      <th>16</th>\n",
       "      <td>13.75</td>\n",
       "      <td>6</td>\n",
       "    </tr>\n",
       "    <tr>\n",
       "      <th>17</th>\n",
       "      <td>18.11</td>\n",
       "      <td>7</td>\n",
       "    </tr>\n",
       "    <tr>\n",
       "      <th>18</th>\n",
       "      <td>8.00</td>\n",
       "      <td>2</td>\n",
       "    </tr>\n",
       "    <tr>\n",
       "      <th>19</th>\n",
       "      <td>17.83</td>\n",
       "      <td>7</td>\n",
       "    </tr>\n",
       "    <tr>\n",
       "      <th>20</th>\n",
       "      <td>21.50</td>\n",
       "      <td>5</td>\n",
       "    </tr>\n",
       "  </tbody>\n",
       "</table>\n",
       "</div>"
      ],
      "text/plain": [
       "    Delivery Time  Sorting Time\n",
       "0           21.00            10\n",
       "1           13.50             4\n",
       "2           19.75             6\n",
       "3           24.00             9\n",
       "4           29.00            10\n",
       "5           15.35             6\n",
       "6           19.00             7\n",
       "7            9.50             3\n",
       "8           17.90            10\n",
       "9           18.75             9\n",
       "10          19.83             8\n",
       "11          10.75             4\n",
       "12          16.68             7\n",
       "13          11.50             3\n",
       "14          12.03             3\n",
       "15          14.88             4\n",
       "16          13.75             6\n",
       "17          18.11             7\n",
       "18           8.00             2\n",
       "19          17.83             7\n",
       "20          21.50             5"
      ]
     },
     "execution_count": 2,
     "metadata": {},
     "output_type": "execute_result"
    }
   ],
   "source": [
    "Delivery_data = pd.read_csv('delivery_time.csv')\n",
    "Delivery_data"
   ]
  },
  {
   "cell_type": "code",
   "execution_count": 3,
   "id": "57495754",
   "metadata": {
    "ExecuteTime": {
     "end_time": "2022-07-25T22:01:51.704018Z",
     "start_time": "2022-07-25T22:01:48.730998Z"
    }
   },
   "outputs": [
    {
     "data": {
      "text/plain": [
       "array([[<AxesSubplot:title={'center':'2'}>,\n",
       "        <AxesSubplot:title={'center':'3'}>,\n",
       "        <AxesSubplot:title={'center':'4'}>],\n",
       "       [<AxesSubplot:title={'center':'5'}>,\n",
       "        <AxesSubplot:title={'center':'6'}>,\n",
       "        <AxesSubplot:title={'center':'7'}>],\n",
       "       [<AxesSubplot:title={'center':'8'}>,\n",
       "        <AxesSubplot:title={'center':'9'}>,\n",
       "        <AxesSubplot:title={'center':'10'}>]], dtype=object)"
      ]
     },
     "execution_count": 3,
     "metadata": {},
     "output_type": "execute_result"
    },
    {
     "data": {
      "image/png": "[encoded data removed]",
      "text/plain": [
       "<Figure size 432x288 with 9 Axes>"
      ]
     },
     "metadata": {
      "needs_background": "light"
     },
     "output_type": "display_data"
    }
   ],
   "source": [
    "Delivery_data.hist(column= 'Delivery Time' , by= 'Sorting Time')"
   ]
  },
  {
   "cell_type": "code",
   "execution_count": 4,
   "id": "dbfe3c8b",
   "metadata": {
    "ExecuteTime": {
     "end_time": "2022-07-25T22:01:52.177353Z",
     "start_time": "2022-07-25T22:01:51.710997Z"
    }
   },
   "outputs": [
    {
     "data": {
      "text/plain": [
       "<matplotlib.collections.PathCollection at 0x213cfea160>"
      ]
     },
     "execution_count": 4,
     "metadata": {},
     "output_type": "execute_result"
    },
    {
     "data": {
      "image/png": "[encoded data removed]",
      "text/plain": [
       "<Figure size 432x288 with 1 Axes>"
      ]
     },
     "metadata": {
      "needs_background": "light"
     },
     "output_type": "display_data"
    }
   ],
   "source": [
    "plt.scatter(x = 'Delivery Time' , y= 'Sorting Time', data= Delivery_data)"
   ]
  },
  {
   "cell_type": "code",
   "execution_count": 5,
   "id": "6783e59b",
   "metadata": {
    "ExecuteTime": {
     "end_time": "2022-07-25T22:01:52.224367Z",
     "start_time": "2022-07-25T22:01:52.184331Z"
    }
   },
   "outputs": [
    {
     "data": {
      "text/html": [
       "<div>\n",
       "<style scoped>\n",
       "    .dataframe tbody tr th:only-of-type {\n",
       "        vertical-align: middle;\n",
       "    }\n",
       "\n",
       "    .dataframe tbody tr th {\n",
       "        vertical-align: top;\n",
       "    }\n",
       "\n",
       "    .dataframe thead th {\n",
       "        text-align: right;\n",
       "    }\n",
       "</style>\n",
       "<table border=\"1\" class=\"dataframe\">\n",
       "  <thead>\n",
       "    <tr style=\"text-align: right;\">\n",
       "      <th></th>\n",
       "      <th>Delivery Time</th>\n",
       "      <th>Sorting Time</th>\n",
       "    </tr>\n",
       "  </thead>\n",
       "  <tbody>\n",
       "    <tr>\n",
       "      <th>Delivery Time</th>\n",
       "      <td>1.000000</td>\n",
       "      <td>0.825997</td>\n",
       "    </tr>\n",
       "    <tr>\n",
       "      <th>Sorting Time</th>\n",
       "      <td>0.825997</td>\n",
       "      <td>1.000000</td>\n",
       "    </tr>\n",
       "  </tbody>\n",
       "</table>\n",
       "</div>"
      ],
      "text/plain": [
       "               Delivery Time  Sorting Time\n",
       "Delivery Time       1.000000      0.825997\n",
       "Sorting Time        0.825997      1.000000"
      ]
     },
     "execution_count": 5,
     "metadata": {},
     "output_type": "execute_result"
    }
   ],
   "source": [
    "Delivery_data.corr(method= 'pearson')"
   ]
  },
  {
   "cell_type": "markdown",
   "id": "c42de3bd",
   "metadata": {},
   "source": [
    "###  Model Building "
   ]
  },
  {
   "cell_type": "code",
   "execution_count": 6,
   "id": "cc82e149",
   "metadata": {
    "ExecuteTime": {
     "end_time": "2022-07-25T22:01:52.361620Z",
     "start_time": "2022-07-25T22:01:52.236368Z"
    }
   },
   "outputs": [],
   "source": [
    "y = Delivery_data['Delivery Time']\n",
    "X = Delivery_data['Sorting Time']"
   ]
  },
  {
   "cell_type": "code",
   "execution_count": 7,
   "id": "8c61951e",
   "metadata": {
    "ExecuteTime": {
     "end_time": "2022-07-25T22:01:52.489304Z",
     "start_time": "2022-07-25T22:01:52.368622Z"
    }
   },
   "outputs": [
    {
     "data": {
      "text/plain": [
       "LinearRegression()"
      ]
     },
     "execution_count": 7,
     "metadata": {},
     "output_type": "execute_result"
    }
   ],
   "source": [
    "Model = LinearRegression() \n",
    "Model.fit(Delivery_data,  Delivery_data['Delivery Time'])"
   ]
  },
  {
   "cell_type": "code",
   "execution_count": 8,
   "id": "89580e30",
   "metadata": {
    "ExecuteTime": {
     "end_time": "2022-07-25T22:01:52.590380Z",
     "start_time": "2022-07-25T22:01:52.500306Z"
    }
   },
   "outputs": [
    {
     "data": {
      "text/plain": [
       "0.9999999999999998"
      ]
     },
     "execution_count": 8,
     "metadata": {},
     "output_type": "execute_result"
    }
   ],
   "source": [
    "cofficent = Model.coef_[0]\n",
    "cofficent"
   ]
  },
  {
   "cell_type": "code",
   "execution_count": 9,
   "id": "833ceee2",
   "metadata": {
    "ExecuteTime": {
     "end_time": "2022-07-25T22:01:52.689615Z",
     "start_time": "2022-07-25T22:01:52.596384Z"
    }
   },
   "outputs": [
    {
     "data": {
      "text/plain": [
       "3.552713678800501e-15"
      ]
     },
     "execution_count": 9,
     "metadata": {},
     "output_type": "execute_result"
    }
   ],
   "source": [
    "intercept= Model.intercept_\n",
    "intercept"
   ]
  },
  {
   "cell_type": "code",
   "execution_count": 10,
   "id": "46894db0",
   "metadata": {
    "ExecuteTime": {
     "end_time": "2022-07-25T22:01:52.831800Z",
     "start_time": "2022-07-25T22:01:52.697614Z"
    }
   },
   "outputs": [
    {
     "data": {
      "text/plain": [
       "array([[ 8.        ,  2.        ],\n",
       "       [ 8.07023411,  2.02675585],\n",
       "       [ 8.14046823,  2.05351171],\n",
       "       [ 8.21070234,  2.08026756],\n",
       "       [ 8.28093645,  2.10702341],\n",
       "       [ 8.35117057,  2.13377926],\n",
       "       [ 8.42140468,  2.16053512],\n",
       "       [ 8.4916388 ,  2.18729097],\n",
       "       [ 8.56187291,  2.21404682],\n",
       "       [ 8.63210702,  2.24080268],\n",
       "       [ 8.70234114,  2.26755853],\n",
       "       [ 8.77257525,  2.29431438],\n",
       "       [ 8.84280936,  2.32107023],\n",
       "       [ 8.91304348,  2.34782609],\n",
       "       [ 8.98327759,  2.37458194],\n",
       "       [ 9.05351171,  2.40133779],\n",
       "       [ 9.12374582,  2.42809365],\n",
       "       [ 9.19397993,  2.4548495 ],\n",
       "       [ 9.26421405,  2.48160535],\n",
       "       [ 9.33444816,  2.5083612 ],\n",
       "       [ 9.40468227,  2.53511706],\n",
       "       [ 9.47491639,  2.56187291],\n",
       "       [ 9.5451505 ,  2.58862876],\n",
       "       [ 9.61538462,  2.61538462],\n",
       "       [ 9.68561873,  2.64214047],\n",
       "       [ 9.75585284,  2.66889632],\n",
       "       [ 9.82608696,  2.69565217],\n",
       "       [ 9.89632107,  2.72240803],\n",
       "       [ 9.96655518,  2.74916388],\n",
       "       [10.0367893 ,  2.77591973],\n",
       "       [10.10702341,  2.80267559],\n",
       "       [10.17725753,  2.82943144],\n",
       "       [10.24749164,  2.85618729],\n",
       "       [10.31772575,  2.88294314],\n",
       "       [10.38795987,  2.909699  ],\n",
       "       [10.45819398,  2.93645485],\n",
       "       [10.52842809,  2.9632107 ],\n",
       "       [10.59866221,  2.98996656],\n",
       "       [10.66889632,  3.01672241],\n",
       "       [10.73913043,  3.04347826],\n",
       "       [10.80936455,  3.07023411],\n",
       "       [10.87959866,  3.09698997],\n",
       "       [10.94983278,  3.12374582],\n",
       "       [11.02006689,  3.15050167],\n",
       "       [11.090301  ,  3.17725753],\n",
       "       [11.16053512,  3.20401338],\n",
       "       [11.23076923,  3.23076923],\n",
       "       [11.30100334,  3.25752508],\n",
       "       [11.37123746,  3.28428094],\n",
       "       [11.44147157,  3.31103679],\n",
       "       [11.51170569,  3.33779264],\n",
       "       [11.5819398 ,  3.36454849],\n",
       "       [11.65217391,  3.39130435],\n",
       "       [11.72240803,  3.4180602 ],\n",
       "       [11.79264214,  3.44481605],\n",
       "       [11.86287625,  3.47157191],\n",
       "       [11.93311037,  3.49832776],\n",
       "       [12.00334448,  3.52508361],\n",
       "       [12.0735786 ,  3.55183946],\n",
       "       [12.14381271,  3.57859532],\n",
       "       [12.21404682,  3.60535117],\n",
       "       [12.28428094,  3.63210702],\n",
       "       [12.35451505,  3.65886288],\n",
       "       [12.42474916,  3.68561873],\n",
       "       [12.49498328,  3.71237458],\n",
       "       [12.56521739,  3.73913043],\n",
       "       [12.63545151,  3.76588629],\n",
       "       [12.70568562,  3.79264214],\n",
       "       [12.77591973,  3.81939799],\n",
       "       [12.84615385,  3.84615385],\n",
       "       [12.91638796,  3.8729097 ],\n",
       "       [12.98662207,  3.89966555],\n",
       "       [13.05685619,  3.9264214 ],\n",
       "       [13.1270903 ,  3.95317726],\n",
       "       [13.19732441,  3.97993311],\n",
       "       [13.26755853,  4.00668896],\n",
       "       [13.33779264,  4.03344482],\n",
       "       [13.40802676,  4.06020067],\n",
       "       [13.47826087,  4.08695652],\n",
       "       [13.54849498,  4.11371237],\n",
       "       [13.6187291 ,  4.14046823],\n",
       "       [13.68896321,  4.16722408],\n",
       "       [13.75919732,  4.19397993],\n",
       "       [13.82943144,  4.22073579],\n",
       "       [13.89966555,  4.24749164],\n",
       "       [13.96989967,  4.27424749],\n",
       "       [14.04013378,  4.30100334],\n",
       "       [14.11036789,  4.3277592 ],\n",
       "       [14.18060201,  4.35451505],\n",
       "       [14.25083612,  4.3812709 ],\n",
       "       [14.32107023,  4.40802676],\n",
       "       [14.39130435,  4.43478261],\n",
       "       [14.46153846,  4.46153846],\n",
       "       [14.53177258,  4.48829431],\n",
       "       [14.60200669,  4.51505017],\n",
       "       [14.6722408 ,  4.54180602],\n",
       "       [14.74247492,  4.56856187],\n",
       "       [14.81270903,  4.59531773],\n",
       "       [14.88294314,  4.62207358],\n",
       "       [14.95317726,  4.64882943],\n",
       "       [15.02341137,  4.67558528],\n",
       "       [15.09364548,  4.70234114],\n",
       "       [15.1638796 ,  4.72909699],\n",
       "       [15.23411371,  4.75585284],\n",
       "       [15.30434783,  4.7826087 ],\n",
       "       [15.37458194,  4.80936455],\n",
       "       [15.44481605,  4.8361204 ],\n",
       "       [15.51505017,  4.86287625],\n",
       "       [15.58528428,  4.88963211],\n",
       "       [15.65551839,  4.91638796],\n",
       "       [15.72575251,  4.94314381],\n",
       "       [15.79598662,  4.96989967],\n",
       "       [15.86622074,  4.99665552],\n",
       "       [15.93645485,  5.02341137],\n",
       "       [16.00668896,  5.05016722],\n",
       "       [16.07692308,  5.07692308],\n",
       "       [16.14715719,  5.10367893],\n",
       "       [16.2173913 ,  5.13043478],\n",
       "       [16.28762542,  5.15719064],\n",
       "       [16.35785953,  5.18394649],\n",
       "       [16.42809365,  5.21070234],\n",
       "       [16.49832776,  5.23745819],\n",
       "       [16.56856187,  5.26421405],\n",
       "       [16.63879599,  5.2909699 ],\n",
       "       [16.7090301 ,  5.31772575],\n",
       "       [16.77926421,  5.34448161],\n",
       "       [16.84949833,  5.37123746],\n",
       "       [16.91973244,  5.39799331],\n",
       "       [16.98996656,  5.42474916],\n",
       "       [17.06020067,  5.45150502],\n",
       "       [17.13043478,  5.47826087],\n",
       "       [17.2006689 ,  5.50501672],\n",
       "       [17.27090301,  5.53177258],\n",
       "       [17.34113712,  5.55852843],\n",
       "       [17.41137124,  5.58528428],\n",
       "       [17.48160535,  5.61204013],\n",
       "       [17.55183946,  5.63879599],\n",
       "       [17.62207358,  5.66555184],\n",
       "       [17.69230769,  5.69230769],\n",
       "       [17.76254181,  5.71906355],\n",
       "       [17.83277592,  5.7458194 ],\n",
       "       [17.90301003,  5.77257525],\n",
       "       [17.97324415,  5.7993311 ],\n",
       "       [18.04347826,  5.82608696],\n",
       "       [18.11371237,  5.85284281],\n",
       "       [18.18394649,  5.87959866],\n",
       "       [18.2541806 ,  5.90635452],\n",
       "       [18.32441472,  5.93311037],\n",
       "       [18.39464883,  5.95986622],\n",
       "       [18.46488294,  5.98662207],\n",
       "       [18.53511706,  6.01337793],\n",
       "       [18.60535117,  6.04013378],\n",
       "       [18.67558528,  6.06688963],\n",
       "       [18.7458194 ,  6.09364548],\n",
       "       [18.81605351,  6.12040134],\n",
       "       [18.88628763,  6.14715719],\n",
       "       [18.95652174,  6.17391304],\n",
       "       [19.02675585,  6.2006689 ],\n",
       "       [19.09698997,  6.22742475],\n",
       "       [19.16722408,  6.2541806 ],\n",
       "       [19.23745819,  6.28093645],\n",
       "       [19.30769231,  6.30769231],\n",
       "       [19.37792642,  6.33444816],\n",
       "       [19.44816054,  6.36120401],\n",
       "       [19.51839465,  6.38795987],\n",
       "       [19.58862876,  6.41471572],\n",
       "       [19.65886288,  6.44147157],\n",
       "       [19.72909699,  6.46822742],\n",
       "       [19.7993311 ,  6.49498328],\n",
       "       [19.86956522,  6.52173913],\n",
       "       [19.93979933,  6.54849498],\n",
       "       [20.01003344,  6.57525084],\n",
       "       [20.08026756,  6.60200669],\n",
       "       [20.15050167,  6.62876254],\n",
       "       [20.22073579,  6.65551839],\n",
       "       [20.2909699 ,  6.68227425],\n",
       "       [20.36120401,  6.7090301 ],\n",
       "       [20.43143813,  6.73578595],\n",
       "       [20.50167224,  6.76254181],\n",
       "       [20.57190635,  6.78929766],\n",
       "       [20.64214047,  6.81605351],\n",
       "       [20.71237458,  6.84280936],\n",
       "       [20.7826087 ,  6.86956522],\n",
       "       [20.85284281,  6.89632107],\n",
       "       [20.92307692,  6.92307692],\n",
       "       [20.99331104,  6.94983278],\n",
       "       [21.06354515,  6.97658863],\n",
       "       [21.13377926,  7.00334448],\n",
       "       [21.20401338,  7.03010033],\n",
       "       [21.27424749,  7.05685619],\n",
       "       [21.34448161,  7.08361204],\n",
       "       [21.41471572,  7.11036789],\n",
       "       [21.48494983,  7.13712375],\n",
       "       [21.55518395,  7.1638796 ],\n",
       "       [21.62541806,  7.19063545],\n",
       "       [21.69565217,  7.2173913 ],\n",
       "       [21.76588629,  7.24414716],\n",
       "       [21.8361204 ,  7.27090301],\n",
       "       [21.90635452,  7.29765886],\n",
       "       [21.97658863,  7.32441472],\n",
       "       [22.04682274,  7.35117057],\n",
       "       [22.11705686,  7.37792642],\n",
       "       [22.18729097,  7.40468227],\n",
       "       [22.25752508,  7.43143813],\n",
       "       [22.3277592 ,  7.45819398],\n",
       "       [22.39799331,  7.48494983],\n",
       "       [22.46822742,  7.51170569],\n",
       "       [22.53846154,  7.53846154],\n",
       "       [22.60869565,  7.56521739],\n",
       "       [22.67892977,  7.59197324],\n",
       "       [22.74916388,  7.6187291 ],\n",
       "       [22.81939799,  7.64548495],\n",
       "       [22.88963211,  7.6722408 ],\n",
       "       [22.95986622,  7.69899666],\n",
       "       [23.03010033,  7.72575251],\n",
       "       [23.10033445,  7.75250836],\n",
       "       [23.17056856,  7.77926421],\n",
       "       [23.24080268,  7.80602007],\n",
       "       [23.31103679,  7.83277592],\n",
       "       [23.3812709 ,  7.85953177],\n",
       "       [23.45150502,  7.88628763],\n",
       "       [23.52173913,  7.91304348],\n",
       "       [23.59197324,  7.93979933],\n",
       "       [23.66220736,  7.96655518],\n",
       "       [23.73244147,  7.99331104],\n",
       "       [23.80267559,  8.02006689],\n",
       "       [23.8729097 ,  8.04682274],\n",
       "       [23.94314381,  8.0735786 ],\n",
       "       [24.01337793,  8.10033445],\n",
       "       [24.08361204,  8.1270903 ],\n",
       "       [24.15384615,  8.15384615],\n",
       "       [24.22408027,  8.18060201],\n",
       "       [24.29431438,  8.20735786],\n",
       "       [24.36454849,  8.23411371],\n",
       "       [24.43478261,  8.26086957],\n",
       "       [24.50501672,  8.28762542],\n",
       "       [24.57525084,  8.31438127],\n",
       "       [24.64548495,  8.34113712],\n",
       "       [24.71571906,  8.36789298],\n",
       "       [24.78595318,  8.39464883],\n",
       "       [24.85618729,  8.42140468],\n",
       "       [24.9264214 ,  8.44816054],\n",
       "       [24.99665552,  8.47491639],\n",
       "       [25.06688963,  8.50167224],\n",
       "       [25.13712375,  8.52842809],\n",
       "       [25.20735786,  8.55518395],\n",
       "       [25.27759197,  8.5819398 ],\n",
       "       [25.34782609,  8.60869565],\n",
       "       [25.4180602 ,  8.63545151],\n",
       "       [25.48829431,  8.66220736],\n",
       "       [25.55852843,  8.68896321],\n",
       "       [25.62876254,  8.71571906],\n",
       "       [25.69899666,  8.74247492],\n",
       "       [25.76923077,  8.76923077],\n",
       "       [25.83946488,  8.79598662],\n",
       "       [25.909699  ,  8.82274247],\n",
       "       [25.97993311,  8.84949833],\n",
       "       [26.05016722,  8.87625418],\n",
       "       [26.12040134,  8.90301003],\n",
       "       [26.19063545,  8.92976589],\n",
       "       [26.26086957,  8.95652174],\n",
       "       [26.33110368,  8.98327759],\n",
       "       [26.40133779,  9.01003344],\n",
       "       [26.47157191,  9.0367893 ],\n",
       "       [26.54180602,  9.06354515],\n",
       "       [26.61204013,  9.090301  ],\n",
       "       [26.68227425,  9.11705686],\n",
       "       [26.75250836,  9.14381271],\n",
       "       [26.82274247,  9.17056856],\n",
       "       [26.89297659,  9.19732441],\n",
       "       [26.9632107 ,  9.22408027],\n",
       "       [27.03344482,  9.25083612],\n",
       "       [27.10367893,  9.27759197],\n",
       "       [27.17391304,  9.30434783],\n",
       "       [27.24414716,  9.33110368],\n",
       "       [27.31438127,  9.35785953],\n",
       "       [27.38461538,  9.38461538],\n",
       "       [27.4548495 ,  9.41137124],\n",
       "       [27.52508361,  9.43812709],\n",
       "       [27.59531773,  9.46488294],\n",
       "       [27.66555184,  9.4916388 ],\n",
       "       [27.73578595,  9.51839465],\n",
       "       [27.80602007,  9.5451505 ],\n",
       "       [27.87625418,  9.57190635],\n",
       "       [27.94648829,  9.59866221],\n",
       "       [28.01672241,  9.62541806],\n",
       "       [28.08695652,  9.65217391],\n",
       "       [28.15719064,  9.67892977],\n",
       "       [28.22742475,  9.70568562],\n",
       "       [28.29765886,  9.73244147],\n",
       "       [28.36789298,  9.75919732],\n",
       "       [28.43812709,  9.78595318],\n",
       "       [28.5083612 ,  9.81270903],\n",
       "       [28.57859532,  9.83946488],\n",
       "       [28.64882943,  9.86622074],\n",
       "       [28.71906355,  9.89297659],\n",
       "       [28.78929766,  9.91973244],\n",
       "       [28.85953177,  9.94648829],\n",
       "       [28.92976589,  9.97324415],\n",
       "       [29.        , 10.        ]])"
      ]
     },
     "execution_count": 10,
     "metadata": {},
     "output_type": "execute_result"
    }
   ],
   "source": [
    "Sorting_time_range = np.linspace(Delivery_data.min(), Delivery_data.max(), num=300)\n",
    "Sorting_time_range"
   ]
  },
  {
   "cell_type": "code",
   "execution_count": 11,
   "id": "fdfce666",
   "metadata": {
    "ExecuteTime": {
     "end_time": "2022-07-25T22:01:53.009142Z",
     "start_time": "2022-07-25T22:01:52.839778Z"
    }
   },
   "outputs": [
    {
     "data": {
      "text/plain": [
       "array([[168.        ,  42.        ],\n",
       "       [169.47491639,  42.56187291],\n",
       "       [170.94983278,  43.12374582],\n",
       "       [172.42474916,  43.68561873],\n",
       "       [173.89966555,  44.24749164],\n",
       "       [175.37458194,  44.80936455],\n",
       "       [176.84949833,  45.37123746],\n",
       "       [178.32441472,  45.93311037],\n",
       "       [179.7993311 ,  46.49498328],\n",
       "       [181.27424749,  47.05685619],\n",
       "       [182.74916388,  47.6187291 ],\n",
       "       [184.22408027,  48.18060201],\n",
       "       [185.69899666,  48.74247492],\n",
       "       [187.17391304,  49.30434783],\n",
       "       [188.64882943,  49.86622074],\n",
       "       [190.12374582,  50.42809365],\n",
       "       [191.59866221,  50.98996656],\n",
       "       [193.0735786 ,  51.55183946],\n",
       "       [194.54849498,  52.11371237],\n",
       "       [196.02341137,  52.67558528],\n",
       "       [197.49832776,  53.23745819],\n",
       "       [198.97324415,  53.7993311 ],\n",
       "       [200.44816054,  54.36120401],\n",
       "       [201.92307692,  54.92307692],\n",
       "       [203.39799331,  55.48494983],\n",
       "       [204.8729097 ,  56.04682274],\n",
       "       [206.34782609,  56.60869565],\n",
       "       [207.82274247,  57.17056856],\n",
       "       [209.29765886,  57.73244147],\n",
       "       [210.77257525,  58.29431438],\n",
       "       [212.24749164,  58.85618729],\n",
       "       [213.72240803,  59.4180602 ],\n",
       "       [215.19732441,  59.97993311],\n",
       "       [216.6722408 ,  60.54180602],\n",
       "       [218.14715719,  61.10367893],\n",
       "       [219.62207358,  61.66555184],\n",
       "       [221.09698997,  62.22742475],\n",
       "       [222.57190635,  62.78929766],\n",
       "       [224.04682274,  63.35117057],\n",
       "       [225.52173913,  63.91304348],\n",
       "       [226.99665552,  64.47491639],\n",
       "       [228.47157191,  65.0367893 ],\n",
       "       [229.94648829,  65.59866221],\n",
       "       [231.42140468,  66.16053512],\n",
       "       [232.89632107,  66.72240803],\n",
       "       [234.37123746,  67.28428094],\n",
       "       [235.84615385,  67.84615385],\n",
       "       [237.32107023,  68.40802676],\n",
       "       [238.79598662,  68.96989967],\n",
       "       [240.27090301,  69.53177258],\n",
       "       [241.7458194 ,  70.09364548],\n",
       "       [243.22073579,  70.65551839],\n",
       "       [244.69565217,  71.2173913 ],\n",
       "       [246.17056856,  71.77926421],\n",
       "       [247.64548495,  72.34113712],\n",
       "       [249.12040134,  72.90301003],\n",
       "       [250.59531773,  73.46488294],\n",
       "       [252.07023411,  74.02675585],\n",
       "       [253.5451505 ,  74.58862876],\n",
       "       [255.02006689,  75.15050167],\n",
       "       [256.49498328,  75.71237458],\n",
       "       [257.96989967,  76.27424749],\n",
       "       [259.44481605,  76.8361204 ],\n",
       "       [260.91973244,  77.39799331],\n",
       "       [262.39464883,  77.95986622],\n",
       "       [263.86956522,  78.52173913],\n",
       "       [265.34448161,  79.08361204],\n",
       "       [266.81939799,  79.64548495],\n",
       "       [268.29431438,  80.20735786],\n",
       "       [269.76923077,  80.76923077],\n",
       "       [271.24414716,  81.33110368],\n",
       "       [272.71906355,  81.89297659],\n",
       "       [274.19397993,  82.4548495 ],\n",
       "       [275.66889632,  83.01672241],\n",
       "       [277.14381271,  83.57859532],\n",
       "       [278.6187291 ,  84.14046823],\n",
       "       [280.09364548,  84.70234114],\n",
       "       [281.56856187,  85.26421405],\n",
       "       [283.04347826,  85.82608696],\n",
       "       [284.51839465,  86.38795987],\n",
       "       [285.99331104,  86.94983278],\n",
       "       [287.46822742,  87.51170569],\n",
       "       [288.94314381,  88.0735786 ],\n",
       "       [290.4180602 ,  88.63545151],\n",
       "       [291.89297659,  89.19732441],\n",
       "       [293.36789298,  89.75919732],\n",
       "       [294.84280936,  90.32107023],\n",
       "       [296.31772575,  90.88294314],\n",
       "       [297.79264214,  91.44481605],\n",
       "       [299.26755853,  92.00668896],\n",
       "       [300.74247492,  92.56856187],\n",
       "       [302.2173913 ,  93.13043478],\n",
       "       [303.69230769,  93.69230769],\n",
       "       [305.16722408,  94.2541806 ],\n",
       "       [306.64214047,  94.81605351],\n",
       "       [308.11705686,  95.37792642],\n",
       "       [309.59197324,  95.93979933],\n",
       "       [311.06688963,  96.50167224],\n",
       "       [312.54180602,  97.06354515],\n",
       "       [314.01672241,  97.62541806],\n",
       "       [315.4916388 ,  98.18729097],\n",
       "       [316.96655518,  98.74916388],\n",
       "       [318.44147157,  99.31103679],\n",
       "       [319.91638796,  99.8729097 ],\n",
       "       [321.39130435, 100.43478261],\n",
       "       [322.86622074, 100.99665552],\n",
       "       [324.34113712, 101.55852843],\n",
       "       [325.81605351, 102.12040134],\n",
       "       [327.2909699 , 102.68227425],\n",
       "       [328.76588629, 103.24414716],\n",
       "       [330.24080268, 103.80602007],\n",
       "       [331.71571906, 104.36789298],\n",
       "       [333.19063545, 104.92976589],\n",
       "       [334.66555184, 105.4916388 ],\n",
       "       [336.14046823, 106.05351171],\n",
       "       [337.61538462, 106.61538462],\n",
       "       [339.090301  , 107.17725753],\n",
       "       [340.56521739, 107.73913043],\n",
       "       [342.04013378, 108.30100334],\n",
       "       [343.51505017, 108.86287625],\n",
       "       [344.98996656, 109.42474916],\n",
       "       [346.46488294, 109.98662207],\n",
       "       [347.93979933, 110.54849498],\n",
       "       [349.41471572, 111.11036789],\n",
       "       [350.88963211, 111.6722408 ],\n",
       "       [352.36454849, 112.23411371],\n",
       "       [353.83946488, 112.79598662],\n",
       "       [355.31438127, 113.35785953],\n",
       "       [356.78929766, 113.91973244],\n",
       "       [358.26421405, 114.48160535],\n",
       "       [359.73913043, 115.04347826],\n",
       "       [361.21404682, 115.60535117],\n",
       "       [362.68896321, 116.16722408],\n",
       "       [364.1638796 , 116.72909699],\n",
       "       [365.63879599, 117.2909699 ],\n",
       "       [367.11371237, 117.85284281],\n",
       "       [368.58862876, 118.41471572],\n",
       "       [370.06354515, 118.97658863],\n",
       "       [371.53846154, 119.53846154],\n",
       "       [373.01337793, 120.10033445],\n",
       "       [374.48829431, 120.66220736],\n",
       "       [375.9632107 , 121.22408027],\n",
       "       [377.43812709, 121.78595318],\n",
       "       [378.91304348, 122.34782609],\n",
       "       [380.38795987, 122.909699  ],\n",
       "       [381.86287625, 123.47157191],\n",
       "       [383.33779264, 124.03344482],\n",
       "       [384.81270903, 124.59531773],\n",
       "       [386.28762542, 125.15719064],\n",
       "       [387.76254181, 125.71906355],\n",
       "       [389.23745819, 126.28093645],\n",
       "       [390.71237458, 126.84280936],\n",
       "       [392.18729097, 127.40468227],\n",
       "       [393.66220736, 127.96655518],\n",
       "       [395.13712375, 128.52842809],\n",
       "       [396.61204013, 129.090301  ],\n",
       "       [398.08695652, 129.65217391],\n",
       "       [399.56187291, 130.21404682],\n",
       "       [401.0367893 , 130.77591973],\n",
       "       [402.51170569, 131.33779264],\n",
       "       [403.98662207, 131.89966555],\n",
       "       [405.46153846, 132.46153846],\n",
       "       [406.93645485, 133.02341137],\n",
       "       [408.41137124, 133.58528428],\n",
       "       [409.88628763, 134.14715719],\n",
       "       [411.36120401, 134.7090301 ],\n",
       "       [412.8361204 , 135.27090301],\n",
       "       [414.31103679, 135.83277592],\n",
       "       [415.78595318, 136.39464883],\n",
       "       [417.26086957, 136.95652174],\n",
       "       [418.73578595, 137.51839465],\n",
       "       [420.21070234, 138.08026756],\n",
       "       [421.68561873, 138.64214047],\n",
       "       [423.16053512, 139.20401338],\n",
       "       [424.63545151, 139.76588629],\n",
       "       [426.11036789, 140.3277592 ],\n",
       "       [427.58528428, 140.88963211],\n",
       "       [429.06020067, 141.45150502],\n",
       "       [430.53511706, 142.01337793],\n",
       "       [432.01003344, 142.57525084],\n",
       "       [433.48494983, 143.13712375],\n",
       "       [434.95986622, 143.69899666],\n",
       "       [436.43478261, 144.26086957],\n",
       "       [437.909699  , 144.82274247],\n",
       "       [439.38461538, 145.38461538],\n",
       "       [440.85953177, 145.94648829],\n",
       "       [442.33444816, 146.5083612 ],\n",
       "       [443.80936455, 147.07023411],\n",
       "       [445.28428094, 147.63210702],\n",
       "       [446.75919732, 148.19397993],\n",
       "       [448.23411371, 148.75585284],\n",
       "       [449.7090301 , 149.31772575],\n",
       "       [451.18394649, 149.87959866],\n",
       "       [452.65886288, 150.44147157],\n",
       "       [454.13377926, 151.00334448],\n",
       "       [455.60869565, 151.56521739],\n",
       "       [457.08361204, 152.1270903 ],\n",
       "       [458.55852843, 152.68896321],\n",
       "       [460.03344482, 153.25083612],\n",
       "       [461.5083612 , 153.81270903],\n",
       "       [462.98327759, 154.37458194],\n",
       "       [464.45819398, 154.93645485],\n",
       "       [465.93311037, 155.49832776],\n",
       "       [467.40802676, 156.06020067],\n",
       "       [468.88294314, 156.62207358],\n",
       "       [470.35785953, 157.18394649],\n",
       "       [471.83277592, 157.7458194 ],\n",
       "       [473.30769231, 158.30769231],\n",
       "       [474.7826087 , 158.86956522],\n",
       "       [476.25752508, 159.43143813],\n",
       "       [477.73244147, 159.99331104],\n",
       "       [479.20735786, 160.55518395],\n",
       "       [480.68227425, 161.11705686],\n",
       "       [482.15719064, 161.67892977],\n",
       "       [483.63210702, 162.24080268],\n",
       "       [485.10702341, 162.80267559],\n",
       "       [486.5819398 , 163.36454849],\n",
       "       [488.05685619, 163.9264214 ],\n",
       "       [489.53177258, 164.48829431],\n",
       "       [491.00668896, 165.05016722],\n",
       "       [492.48160535, 165.61204013],\n",
       "       [493.95652174, 166.17391304],\n",
       "       [495.43143813, 166.73578595],\n",
       "       [496.90635452, 167.29765886],\n",
       "       [498.3812709 , 167.85953177],\n",
       "       [499.85618729, 168.42140468],\n",
       "       [501.33110368, 168.98327759],\n",
       "       [502.80602007, 169.5451505 ],\n",
       "       [504.28093645, 170.10702341],\n",
       "       [505.75585284, 170.66889632],\n",
       "       [507.23076923, 171.23076923],\n",
       "       [508.70568562, 171.79264214],\n",
       "       [510.18060201, 172.35451505],\n",
       "       [511.65551839, 172.91638796],\n",
       "       [513.13043478, 173.47826087],\n",
       "       [514.60535117, 174.04013378],\n",
       "       [516.08026756, 174.60200669],\n",
       "       [517.55518395, 175.1638796 ],\n",
       "       [519.03010033, 175.72575251],\n",
       "       [520.50501672, 176.28762542],\n",
       "       [521.97993311, 176.84949833],\n",
       "       [523.4548495 , 177.41137124],\n",
       "       [524.92976589, 177.97324415],\n",
       "       [526.40468227, 178.53511706],\n",
       "       [527.87959866, 179.09698997],\n",
       "       [529.35451505, 179.65886288],\n",
       "       [530.82943144, 180.22073579],\n",
       "       [532.30434783, 180.7826087 ],\n",
       "       [533.77926421, 181.34448161],\n",
       "       [535.2541806 , 181.90635452],\n",
       "       [536.72909699, 182.46822742],\n",
       "       [538.20401338, 183.03010033],\n",
       "       [539.67892977, 183.59197324],\n",
       "       [541.15384615, 184.15384615],\n",
       "       [542.62876254, 184.71571906],\n",
       "       [544.10367893, 185.27759197],\n",
       "       [545.57859532, 185.83946488],\n",
       "       [547.05351171, 186.40133779],\n",
       "       [548.52842809, 186.9632107 ],\n",
       "       [550.00334448, 187.52508361],\n",
       "       [551.47826087, 188.08695652],\n",
       "       [552.95317726, 188.64882943],\n",
       "       [554.42809365, 189.21070234],\n",
       "       [555.90301003, 189.77257525],\n",
       "       [557.37792642, 190.33444816],\n",
       "       [558.85284281, 190.89632107],\n",
       "       [560.3277592 , 191.45819398],\n",
       "       [561.80267559, 192.02006689],\n",
       "       [563.27759197, 192.5819398 ],\n",
       "       [564.75250836, 193.14381271],\n",
       "       [566.22742475, 193.70568562],\n",
       "       [567.70234114, 194.26755853],\n",
       "       [569.17725753, 194.82943144],\n",
       "       [570.65217391, 195.39130435],\n",
       "       [572.1270903 , 195.95317726],\n",
       "       [573.60200669, 196.51505017],\n",
       "       [575.07692308, 197.07692308],\n",
       "       [576.55183946, 197.63879599],\n",
       "       [578.02675585, 198.2006689 ],\n",
       "       [579.50167224, 198.76254181],\n",
       "       [580.97658863, 199.32441472],\n",
       "       [582.45150502, 199.88628763],\n",
       "       [583.9264214 , 200.44816054],\n",
       "       [585.40133779, 201.01003344],\n",
       "       [586.87625418, 201.57190635],\n",
       "       [588.35117057, 202.13377926],\n",
       "       [589.82608696, 202.69565217],\n",
       "       [591.30100334, 203.25752508],\n",
       "       [592.77591973, 203.81939799],\n",
       "       [594.25083612, 204.3812709 ],\n",
       "       [595.72575251, 204.94314381],\n",
       "       [597.2006689 , 205.50501672],\n",
       "       [598.67558528, 206.06688963],\n",
       "       [600.15050167, 206.62876254],\n",
       "       [601.62541806, 207.19063545],\n",
       "       [603.10033445, 207.75250836],\n",
       "       [604.57525084, 208.31438127],\n",
       "       [606.05016722, 208.87625418],\n",
       "       [607.52508361, 209.43812709],\n",
       "       [609.        , 210.        ]])"
      ]
     },
     "execution_count": 11,
     "metadata": {},
     "output_type": "execute_result"
    }
   ],
   "source": [
    "Delivery_Time_Pred = (21 * Sorting_time_range + intercept)\n",
    "Delivery_Time_Pred"
   ]
  },
  {
   "cell_type": "code",
   "execution_count": 12,
   "id": "4002037e",
   "metadata": {
    "ExecuteTime": {
     "end_time": "2022-07-25T22:01:53.638363Z",
     "start_time": "2022-07-25T22:01:53.017148Z"
    }
   },
   "outputs": [
    {
     "data": {
      "image/png": "[encoded data removed]",
      "text/plain": [
       "<Figure size 432x288 with 1 Axes>"
      ]
     },
     "metadata": {
      "needs_background": "light"
     },
     "output_type": "display_data"
    }
   ],
   "source": [
    "sns.scatterplot(x=Delivery_data['Sorting Time'], y= Delivery_data['Delivery Time'], color=\"black\", alpha=0.5)\n",
    "plt.plot(Sorting_time_range,Delivery_Time_Pred )\n",
    "_ = plt.title(\"Model using LinearRegression from scikit-learn\")"
   ]
  },
  {
   "cell_type": "code",
   "execution_count": 13,
   "id": "6eee3061",
   "metadata": {
    "ExecuteTime": {
     "end_time": "2022-07-25T22:01:53.674400Z",
     "start_time": "2022-07-25T22:01:53.646373Z"
    }
   },
   "outputs": [
    {
     "data": {
      "text/plain": [
       "1.8031106405051697e-30"
      ]
     },
     "execution_count": 13,
     "metadata": {},
     "output_type": "execute_result"
    }
   ],
   "source": [
    "from sklearn.metrics import mean_squared_error\n",
    "\n",
    "Delivery_Time_Prediction = Model.predict(Delivery_data)\n",
    "model_error = mean_squared_error(Delivery_data['Delivery Time'],Delivery_Time_Prediction)\n",
    "model_error"
   ]
  },
  {
   "cell_type": "code",
   "execution_count": 14,
   "id": "3fd64b81",
   "metadata": {
    "ExecuteTime": {
     "end_time": "2022-07-25T22:01:53.798634Z",
     "start_time": "2022-07-25T22:01:53.685407Z"
    }
   },
   "outputs": [
    {
     "data": {
      "text/plain": [
       "6.767073673905716e-16"
      ]
     },
     "execution_count": 14,
     "metadata": {},
     "output_type": "execute_result"
    }
   ],
   "source": [
    "from sklearn.metrics import mean_absolute_error\n",
    "\n",
    "model_error_ab = mean_absolute_error(Delivery_data['Delivery Time'], Delivery_Time_Prediction)\n",
    "model_error_ab"
   ]
  },
  {
   "cell_type": "markdown",
   "id": "10c31cf6",
   "metadata": {},
   "source": [
    "###  The Prediction of the Delivery Time with Sorting Time says with absolute error that it may differs with +_ 0.00000000000000006767  Days. \n",
    "### Hopefully the model is highly linear with the predicted Data."
   ]
  },
  {
   "cell_type": "code",
   "execution_count": null,
   "id": "12eb50ce",
   "metadata": {},
   "outputs": [],
   "source": []
  }
 ],
 "metadata": {
  "kernelspec": {
   "display_name": "Python 3 (ipykernel)",
   "language": "python",
   "name": "python3"
  },
  "language_info": {
   "codemirror_mode": {
    "name": "ipython",
    "version": 3
   },
   "file_extension": ".py",
   "mimetype": "text/x-python",
   "name": "python",
   "nbconvert_exporter": "python",
   "pygments_lexer": "ipython3",
   "version": "3.9.7"
  }
 },
 "nbformat": 4,
 "nbformat_minor": 5
}
